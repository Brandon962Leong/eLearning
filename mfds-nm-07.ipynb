{
 "cells": [
  {
   "cell_type": "markdown",
   "metadata": {
    "slideshow": {
     "slide_type": "slide"
    }
   },
   "source": [
    "## <center><strong>Metode Numerik</strong><br />\n",
    "<img alt=\"\" src=\"images/MetNum.png\" style=\"\" /></center>\n",
    "\n",
    "# <center><font color=\"blue\">Turunan Numerik</font></center>\n",
    "\n",
    "<h2 id=\"(C)-Taufik-Sutanto---2019\" style=\"text-align: center;\">(C) Taufik Sutanto - 2020</h2>\n",
    "<h2 id=\"tau-data-Indonesia-~-https://tau-data.id\" style=\"text-align: center;\">tau-data Indonesia ~ <a href=\"https://tau-data.id/mfds-nm-07/\" target=\"_blank\"><span style=\"color: #0009ff;\">https://tau-data.id/mfds-nm-07/</span></a></h2>"
   ]
  },
  {
   "cell_type": "markdown",
   "metadata": {
    "slideshow": {
     "slide_type": "slide"
    }
   },
   "source": [
    "## Turunan Numerik:\n",
    "\n",
    "* Pendahuluan\n",
    "* Pendekatan Turunan Numerik \n",
    "* Analisis Error\n",
    "* Ekstrapolasi Richardson\n",
    "* Formula-formula turunan numerik"
   ]
  },
  {
   "cell_type": "markdown",
   "metadata": {},
   "source": [
    "## Sebelum dimulai\n",
    "* Yang akan dibahas di Bab ini hanya pendekatan dari turunan \"sebuah fungsi\" di suatu titik\n",
    "* Sistem \"Ordinary Differential Equations\" / Persamaan Differensial Biasa akan dibahas di Buku di Bab IX."
   ]
  },
  {
   "cell_type": "markdown",
   "metadata": {},
   "source": [
    "# Ketika Limit Fungsi Real di Kalkulus Ternyata Bukan Dari Dunia Nyata\n",
    "\n",
    "* Dari Kalkulus kita mendapatkan bahwa $$f'(x) = \\lim_{h\\rightarrow 0}\\frac{f(x+h)-f(x)}{h}$$\n",
    "* Secara logika kita memahami limit diatas sebagai \n",
    "  \"*ketika h semakin dekat dengan 0, maka nilai limit fungsinya semakin mendekati kemiringan garis singgung fungsi f di x*\"\n",
    "* Permasalahannya komputer tidak bisa menggunakan (menyimpan) bilangan real.\n",
    "* Apakah pengertian limit diatas berlaku juga di sistem Floating Point?"
   ]
  },
  {
   "cell_type": "markdown",
   "metadata": {},
   "source": [
    "* Misal $$f(x) = e^x$$\n",
    "* Maka $f'(1) = e = 2.718281828459045 ...$\n",
    "* Mari kita hitung $$\\frac{f(x+h)-f(x)}{h}$$ untuk $h=10^{-1},10^{-2},...,10^{-10},...$"
   ]
  },
  {
   "cell_type": "code",
   "execution_count": 6,
   "metadata": {},
   "outputs": [
    {
     "name": "stdout",
     "output_type": "stream",
     "text": [
      "h\t\t\tlimit\t\t\t    error_Absolut\n",
      "0.1 \t\t 1.1051709180756477 \t\t 0.10517091807564771\n",
      "0.01 \t\t 1.010050167084168 \t\t 0.010050167084167949\n",
      "0.001 \t\t 1.0010005001667084 \t\t 0.0010005001667083846\n",
      "0.0001 \t\t 1.0001000050001667 \t\t 0.0001000050001667141\n",
      "1e-05 \t\t 1.00001000005 \t\t 1.0000050000069649e-05\n",
      "1e-06 \t\t 1.0000010000005 \t\t 1.0000004999621837e-06\n",
      "1e-07 \t\t 1.000000100000005 \t\t 1.0000000494336803e-07\n",
      "1e-08 \t\t 1.00000001 \t\t 9.99999993922529e-09\n",
      "1e-09 \t\t 1.000000001 \t\t 1.000000082740371e-09\n",
      "1e-10 \t\t 1.0000000001 \t\t 1.000000082740371e-10\n",
      "1e-11 \t\t 1.00000000001 \t\t 1.000000082740371e-11\n",
      "1e-12 \t\t 1.000000000001 \t\t 1.000088900582341e-12\n",
      "1e-13 \t\t 1.0000000000001 \t\t 9.992007221626409e-14\n",
      "1e-14 \t\t 1.00000000000001 \t\t 9.992007221626409e-15\n"
     ]
    }
   ],
   "source": [
    "# Contoh Hal 312\n",
    "import numpy as np\n",
    "\n",
    "def f(x):\n",
    "    return x*np.exp(x)\n",
    "\n",
    "X = 0 # f'(0)\n",
    "eksak = 1\n",
    "H = [10**-i for i in range(1,15)] # [0.1, 0.01, 0.001, 0.0001, 1e-05, 1e-06, 1e-07, 1e-08, 1e-09]\n",
    "#H = [0.1]\n",
    "limit = [(f(X+h)-f(X))/h for h in H]\n",
    "E = [abs(eksak-l) for l in limit]\n",
    "print ('h\\t\\t\\tlimit\\t\\t\\t    error_Absolut')\n",
    "for h, l, e in zip(H, limit, E):\n",
    "    print(h,'\\t\\t',l,'\\t\\t',e)\n",
    "    \n",
    "#[abs(1-l) for l in limit]"
   ]
  },
  {
   "cell_type": "markdown",
   "metadata": {},
   "source": [
    "# Komputer \n",
    "* Pada contoh diatas kita melihat bahwa **h** mengecil belum tentu errornya juga mengecil\n",
    "* Kita bisa mengira-ngira **h terbaik** pada kasus diatas, tapi bagaimana dengan fungsi yang lain?"
   ]
  },
  {
   "cell_type": "markdown",
   "metadata": {},
   "source": [
    "<h2 id=\"Central-Difference\">Central Difference</h2>\n",
    "\n",
    "<p><img alt=\"\" src=\"images/theo_central_difference.png\" style=\"width: 800px; height: 424px;\" /></p>\n"
   ]
  },
  {
   "cell_type": "code",
   "execution_count": 7,
   "metadata": {},
   "outputs": [
    {
     "name": "stdout",
     "output_type": "stream",
     "text": [
      "h\t\t\tlimit\t\t\t    error_Absolut\n",
      "0.1 \t\t 1.0050041680558035 \t\t 1.0050041680558035\n",
      "0.01 \t\t 1.000050000416668 \t\t 1.000050000416668\n",
      "0.001 \t\t 1.0000005000000418 \t\t 1.0000005000000418\n",
      "0.0001 \t\t 1.0000000050000002 \t\t 1.0000000050000002\n",
      "1e-05 \t\t 1.0000000000499998 \t\t 1.0000000000499998\n",
      "1e-06 \t\t 1.0000000000005 \t\t 1.0000000000005\n",
      "1e-07 \t\t 1.000000000000005 \t\t 1.000000000000005\n",
      "1e-08 \t\t 1.0 \t\t 1.0\n",
      "1e-09 \t\t 1.0000000000000002 \t\t 1.0000000000000002\n",
      "1e-10 \t\t 1.0 \t\t 1.0\n",
      "1e-11 \t\t 1.0 \t\t 1.0\n",
      "1e-12 \t\t 1.0 \t\t 1.0\n",
      "1e-13 \t\t 1.0 \t\t 1.0\n",
      "1e-14 \t\t 1.0 \t\t 1.0\n"
     ]
    }
   ],
   "source": [
    "# Better?\n",
    "limit = [(f(X+h)-f(X-h))/(2*h) for h in H]\n",
    "E = [abs(f(X)-l) for l in limit]\n",
    "print ('h\\t\\t\\tlimit\\t\\t\\t    error_Absolut')\n",
    "for h, l, e in zip(H,limit, E):\n",
    "    print(h,'\\t\\t',l,'\\t\\t',e)"
   ]
  },
  {
   "cell_type": "markdown",
   "metadata": {},
   "source": [
    "<h2 id=\"Taking-the-central-Difference-Further\">Taking the central Difference Further</h2>\n",
    "\n",
    "<p><img alt=\"\" src=\"images/Theo_Central_Difference_2.png\" style=\"width: 800px; height: 378px;\" /></p>\n"
   ]
  },
  {
   "cell_type": "code",
   "execution_count": 8,
   "metadata": {},
   "outputs": [
    {
     "name": "stdout",
     "output_type": "stream",
     "text": [
      "h\t\t\tlimit\t\t\t    error_Absolut\n",
      "0.1 \t\t 0.9999833055347128 \t\t 0.9999833055347128\n",
      "0.01 \t\t 0.9999999983333057 \t\t 0.9999999983333057\n",
      "0.001 \t\t 0.9999999999998335 \t\t 0.9999999999998335\n",
      "0.0001 \t\t 0.9999999999999998 \t\t 0.9999999999999998\n",
      "1e-05 \t\t 0.9999999999999998 \t\t 0.9999999999999998\n",
      "1e-06 \t\t 0.9999999999999999 \t\t 0.9999999999999999\n",
      "1e-07 \t\t 1.0 \t\t 1.0\n",
      "1e-08 \t\t 0.9999999999999998 \t\t 0.9999999999999998\n",
      "1e-09 \t\t 1.0 \t\t 1.0\n",
      "1e-10 \t\t 1.0000000000000002 \t\t 1.0000000000000002\n",
      "1e-11 \t\t 1.0 \t\t 1.0\n",
      "1e-12 \t\t 1.0 \t\t 1.0\n",
      "1e-13 \t\t 0.9999999999999998 \t\t 0.9999999999999998\n",
      "1e-14 \t\t 1.0 \t\t 1.0\n"
     ]
    },
    {
     "data": {
      "text/plain": [
       "0.9999833055347128"
      ]
     },
     "execution_count": 8,
     "metadata": {},
     "output_type": "execute_result"
    }
   ],
   "source": [
    "# Really?\n",
    "limit = [(-f(X+2*h)+8*f(X+h)-8*f(X-h)+f(X-2*h))/(12*h) for h in H]\n",
    "E = [abs(f(X)-l) for l in limit]\n",
    "print ('h\\t\\t\\tlimit\\t\\t\\t    error_Absolut')\n",
    "for h, l, e in zip(H,limit, E):\n",
    "    print(h,'\\t\\t',l,'\\t\\t',e)\n",
    "([abs(0-l) for l in limit][0])"
   ]
  },
  {
   "cell_type": "markdown",
   "metadata": {},
   "source": [
    "## Wow that's almost magical! It's time we understand where are these formulas came from.\n",
    "\n",
    "* Derive Taylor expansion $f(x) = P_4(x)+E_4(x)$ untuk f(x+h) dan f(x-h)\n",
    "* $f(x+h) - f(x-h) = 2f'(x)h + 2f^{(3)}(x)h^3/3! + 2f^{(5)}(c_1)h^5/5!$\n",
    "* Lakukan hal yang sama, tapi h = 2h, sehingga\n",
    "* $f(x+2h) - f(x-2h) = 4f'(x)h + 16f^{(3)}(x)h^3/3! + 64f^{(5)}(c_2)h^5/5!$\n",
    "* Persamaan kedua dikurangi 8 kali persamaan pertama menghasilkan formula diatas. \n",
    "* $-f(x+2h) + 8f(x+h) - 8f(x-h) + f(x-2h) = 12 f'(x)h + \\frac{(16f^{(5)}(c_1) - 64 f^{(5)}(c_2))h^5}{120}$\n",
    "* Jika dimisalkan \n",
    "* $16 f^{(5)}(c_1) - 64 f^{(5)}(c_2) = -48f^{(5)}(c)$ untuk suatu $c\\in [x-2h, x+2h]$, maka\n",
    "* $f'(x) = \\frac{-f(x+2h) + 8 f(x+h) -8 f(x-h) + f(x-2h)}{12h} + \\frac{f^{(5)}(c)h^4}{30}$\n",
    "* Hence our previous formula"
   ]
  },
  {
   "cell_type": "markdown",
   "metadata": {},
   "source": [
    "<h2 id=\"Analisis-Error,-Teori-dan-Realitas\">Analisis Error, Teori dan Realitas</h2>\n",
    "\n",
    "<ul>\n",
    "\t<li>Jika dibaca di buku, maka kita mendapatkan secara analitik batas error dari teorema 6.1 adalah:</li>\n",
    "\t<li><img alt=\"\" src=\"images/cor_6.1.b.png\" style=\"width: 400px; height: 142px;\" /></li>\n",
    "\t<li>dan untuk teorema 6.2 adalah:</li>\n",
    "\t<li><img alt=\"\" src=\"images/cor_6.2.b.png\" style=\"width: 400px ; height: 141px\" /></li>\n",
    "\t<li>But how useful are these corollary? Why? to what extend?</li>\n",
    "</ul>\n"
   ]
  },
  {
   "cell_type": "markdown",
   "metadata": {},
   "source": [
    "<h2 id=\"Richardson-Extrapolation\">Richardson Extrapolation</h2>\n",
    "\n",
    "<ul>\n",
    "\t<li>What Extrapolation? What do we mean by extrapolation in this contex?</li>\n",
    "\t<li><img alt=\"\" src=\"images/richard_extrapolation.png\" style=\"width: 600px; height: 256px;\" /></li>\n",
    "\t<li>How do we use it?</li>\n",
    "</ul>\n"
   ]
  },
  {
   "cell_type": "markdown",
   "metadata": {},
   "source": [
    "<p><img alt=\"\" src=\"images/richard_extrapolation_alg.png\" style=\"width: 624px; height: 172px;\" /></p>\n"
   ]
  },
  {
   "cell_type": "code",
   "execution_count": 4,
   "metadata": {},
   "outputs": [
    {
     "name": "stdout",
     "output_type": "stream",
     "text": [
      "7 8 9\n"
     ]
    }
   ],
   "source": [
    "# First you need to understand about List indexing in Python\n",
    "A = [3, 4, 5, 6, 9, 8, 7]\n",
    "print(A[-1], A[-2], A[-3])"
   ]
  },
  {
   "cell_type": "code",
   "execution_count": 9,
   "metadata": {},
   "outputs": [
    {
     "name": "stdout",
     "output_type": "stream",
     "text": [
      "k\t\t\tD\t\t\t    error_Absolut\n",
      "0 \t\t 1.0050041680558035 \t\t 0.005004168055803504\n",
      "1 \t\t 1.0000500004166681 \t\t 5.0000416668138925e-05\n",
      "2 \t\t 1.0000005000000418 \t\t 5.000000418142747e-07\n",
      "3 \t\t 1.0000000050000002 \t\t 5.00000019165725e-09\n",
      "4 \t\t 1.0000000000499998 \t\t 4.9999782092413625e-11\n",
      "5 \t\t 1.0000000000005 \t\t 5.000444502911705e-13\n",
      "6 \t\t 1.000000000000005 \t\t 5.10702591327572e-15\n",
      "7 \t\t 1.0 \t\t 0.0\n",
      "8 \t\t 1.0000000000000002 \t\t 2.220446049250313e-16\n",
      "9 \t\t 1.0 \t\t 0.0\n",
      "Final solution at k =  7\n"
     ]
    }
   ],
   "source": [
    "# Contoh aplikasi\n",
    "X = 0\n",
    "h = 0.1 # h terbaik di contoh terakhir\n",
    "D = []\n",
    "# Lihat formulanya, kita butuh minimal 3 D untuk memulai iterasinya.\n",
    "# Kita masih akan menggunakan f(x) yang sama dengan contoh sebelumnya\n",
    "\n",
    "def R(x,h,k):\n",
    "    return (f(x+10**-k*h) - f(x-10**-k*h))/(2*h*10**-k)\n",
    "\n",
    "print ('k\\t\\t\\tD\\t\\t\\t    error_Absolut')\n",
    "\n",
    "k = 0\n",
    "d = R(X,h,k) # k = 0\n",
    "D.append(d)\n",
    "print(k,'\\t\\t', d,'\\t\\t',abs(1-d))\n",
    "\n",
    "k = k+1\n",
    "d = R(X,h,k) # k = 1\n",
    "D.append(d)\n",
    "print(k,'\\t\\t', d,'\\t\\t',abs(1-d))\n",
    "\n",
    "k = k+1\n",
    "d = R(X,h,k) # k = 2\n",
    "D.append(d)\n",
    "print(k,'\\t\\t', d,'\\t\\t',abs(1-d))\n",
    "\n",
    "while abs(D[-1]-D[-2])<abs(D[-2]-D[-3]):\n",
    "    k = k+1\n",
    "    d = R(X,h,k)\n",
    "    D.append(d)\n",
    "    print(k,'\\t\\t', d,'\\t\\t',abs(1-d))\n",
    "    \n",
    "print('Final solution at k = ', k-2)"
   ]
  },
  {
   "cell_type": "markdown",
   "metadata": {},
   "source": [
    "<h2 id=\"Numerical-Differentiation-Formulas\">Numerical Differentiation Formulas</h2>\n",
    "\n",
    "<p><img alt=\"\" src=\"images/NDF_1.png\" style=\"width: 462px; height: 538px;\" /></p>\n"
   ]
  },
  {
   "cell_type": "markdown",
   "metadata": {},
   "source": [
    "<p><img alt=\"\" src=\"images/NDF_2.png\" style=\"width: 563px; height: 548px;\" /></p>\n"
   ]
  },
  {
   "cell_type": "markdown",
   "metadata": {
    "slideshow": {
     "slide_type": "slide"
    }
   },
   "source": [
    "# End of Module\n",
    "\n",
    "<hr />"
   ]
  }
 ],
 "metadata": {
  "celltoolbar": "Slideshow",
  "kernelspec": {
   "display_name": "Python 3",
   "language": "python",
   "name": "python3"
  },
  "language_info": {
   "codemirror_mode": {
    "name": "ipython",
    "version": 3
   },
   "file_extension": ".py",
   "mimetype": "text/x-python",
   "name": "python",
   "nbconvert_exporter": "python",
   "pygments_lexer": "ipython3",
   "version": "3.6.8"
  },
  "latex_envs": {
   "LaTeX_envs_menu_present": true,
   "autoclose": false,
   "autocomplete": true,
   "bibliofile": "biblio.bib",
   "cite_by": "apalike",
   "current_citInitial": 1,
   "eqLabelWithNumbers": true,
   "eqNumInitial": 1,
   "hotkeys": {
    "equation": "Ctrl-E",
    "itemize": "Ctrl-I"
   },
   "labels_anchors": false,
   "latex_user_defs": false,
   "report_style_numbering": false,
   "user_envs_cfg": false
  }
 },
 "nbformat": 4,
 "nbformat_minor": 2
}
