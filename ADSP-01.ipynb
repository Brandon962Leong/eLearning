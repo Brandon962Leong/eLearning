{
 "cells": [
  {
   "cell_type": "markdown",
   "metadata": {
    "slideshow": {
     "slide_type": "slide"
    }
   },
   "source": [
    "<center><img alt=\"\" src=\"images/tau-data_banner.png\"/></center>\n",
    "<center><h3>https://tau-data.id</h3></center>\n",
    "<center><strong><h1>ADSP-01: Pendahuluan Python untuk Data Science - Basic I</h1></strong><br />\n",
    "<img alt=\"\" src=\"images/PDS_logo.jpg\" />\n",
    "<center>\n",
    "<h2>(C)Taufik Sutanto</h2>\n",
    "</center>"
   ]
  },
  {
   "cell_type": "markdown",
   "metadata": {
    "slideshow": {
     "slide_type": "slide"
    }
   },
   "source": [
    "# Outline:\n",
    "* Pengenalan Jupyter Notebook - Google Colaboratory: Eksekusi, Markdown, cells.\n",
    "* Basic Syntax Python: indent, print, input, ;\n",
    "* Importing modules: NameSpace\n",
    "* Atomic Variables\n",
    "* Python Logics: if, for, while, Try-Except.\n",
    "* Python non-atomic variables: Tuple, List, Set, Dictionary\n",
    "\n",
    "**Catatan**: Video/Modul ini digunakan di beberapa modul (minimal sebagai prasyarat): HPDS, ADSP, Data Mining, Metode  Numerik."
   ]
  },
  {
   "cell_type": "markdown",
   "metadata": {
    "slideshow": {
     "slide_type": "slide"
    }
   },
   "source": [
    "# Jupyter Notebook\n",
    "\n",
    "* Python script ==> Terminal\n",
    "* Jupyter Notebook\n",
    "* Google Colab\n",
    "* Not just Codes"
   ]
  },
  {
   "cell_type": "markdown",
   "metadata": {
    "slideshow": {
     "slide_type": "slide"
    }
   },
   "source": [
    "# Syntax Python"
   ]
  },
  {
   "cell_type": "code",
   "execution_count": null,
   "metadata": {
    "slideshow": {
     "slide_type": "fragment"
    }
   },
   "outputs": [],
   "source": [
    "print(A, end=', ')\n",
    "print(B)"
   ]
  },
  {
   "cell_type": "code",
   "execution_count": null,
   "metadata": {
    "slideshow": {
     "slide_type": "slide"
    }
   },
   "outputs": [],
   "source": [
    "# Python menggunakan \"indenting\" dan bukan tanda kurung seperti banyak bahasa pemrograman lain\n",
    "if (A>10):\n",
    "    print('ini menggunakan tab')    \n",
    "    print('ini menggunakan spasi x4')\n",
    "print('teks ini sudah diluar \"IF\"')\n",
    "    \n",
    "# inden dinyatakan dengan \"tab\" atau \"spasi 4x\""
   ]
  },
  {
   "cell_type": "code",
   "execution_count": null,
   "metadata": {
    "slideshow": {
     "slide_type": "slide"
    }
   },
   "outputs": [],
   "source": [
    "print(\"Hi \\\"siapa\\\" kamu?\")"
   ]
  },
  {
   "cell_type": "markdown",
   "metadata": {
    "slideshow": {
     "slide_type": "slide"
    }
   },
   "source": [
    "# Syntax Python\n",
    "\n",
    "* \"import\" yang baik (misal math/numpy)\n",
    "* import alias\n",
    "* Deklarasi\n",
    "* Deklarasi multiline (it's a matter of preference)"
   ]
  },
  {
   "cell_type": "code",
   "execution_count": null,
   "metadata": {
    "slideshow": {
     "slide_type": "fragment"
    }
   },
   "outputs": [],
   "source": [
    "from math import *\n",
    "\n",
    "cos(0)"
   ]
  },
  {
   "cell_type": "code",
   "execution_count": null,
   "metadata": {
    "slideshow": {
     "slide_type": "slide"
    }
   },
   "outputs": [],
   "source": [
    "import numpy as np, pandas as pd\n",
    "from math import cos\n",
    "\n",
    "cos(0)"
   ]
  },
  {
   "cell_type": "code",
   "execution_count": null,
   "metadata": {
    "slideshow": {
     "slide_type": "slide"
    }
   },
   "outputs": [],
   "source": [
    "# Bisa multi line\n",
    "import numpy as np, math \n",
    "\n",
    "math.log10(100)"
   ]
  },
  {
   "cell_type": "code",
   "execution_count": null,
   "metadata": {
    "slideshow": {
     "slide_type": "slide"
    }
   },
   "outputs": [],
   "source": [
    "# Python (seperti matlab) tidak memerlukan deklarasi variabel\n",
    "a = 'ini teks'\n",
    "a"
   ]
  },
  {
   "cell_type": "code",
   "execution_count": null,
   "metadata": {
    "slideshow": {
     "slide_type": "fragment"
    }
   },
   "outputs": [],
   "source": [
    "dir(a)"
   ]
  },
  {
   "cell_type": "code",
   "execution_count": null,
   "metadata": {
    "slideshow": {
     "slide_type": "slide"
    }
   },
   "outputs": [],
   "source": [
    "a = 6.0\n",
    "print(type(a))\n",
    "a = a/2\n",
    "a, type(a)"
   ]
  },
  {
   "cell_type": "code",
   "execution_count": null,
   "metadata": {
    "slideshow": {
     "slide_type": "slide"
    }
   },
   "outputs": [],
   "source": [
    "a = 2\n",
    "a = 'hi'"
   ]
  },
  {
   "cell_type": "markdown",
   "metadata": {
    "slideshow": {
     "slide_type": "slide"
    }
   },
   "source": [
    "# Syntax Python\n",
    "\n",
    "* Comments\n",
    "* Struktur data dasar di Python "
   ]
  },
  {
   "cell_type": "code",
   "execution_count": null,
   "metadata": {
    "slideshow": {
     "slide_type": "fragment"
    }
   },
   "outputs": [],
   "source": [
    "# ini komentar satu baris\n",
    "\n",
    "\"\"\"\n",
    "ini komentar beberapa baris.\n",
    "Sangat baik untuk memberi keterangan ttg suatu \"fungsi\" di Python\n",
    "Akan di contohkan di Modul 6\n",
    "\"\"\""
   ]
  },
  {
   "cell_type": "markdown",
   "metadata": {
    "slideshow": {
     "slide_type": "slide"
    }
   },
   "source": [
    "# Struktur data dasar di Python \n"
   ]
  },
  {
   "cell_type": "code",
   "execution_count": null,
   "metadata": {
    "slideshow": {
     "slide_type": "fragment"
    }
   },
   "outputs": [],
   "source": [
    "# Di Python variabel tidak perlu deklarasi (seperti matlab)\n",
    "a = 2\n",
    "b = 3.4\n",
    "c = 'teks'\n",
    "d = True"
   ]
  },
  {
   "cell_type": "code",
   "execution_count": null,
   "metadata": {
    "slideshow": {
     "slide_type": "slide"
    }
   },
   "outputs": [],
   "source": [
    "A = [4, 5, 6, 89]\n",
    "B = [3, 4, 5]\n",
    "A+B"
   ]
  },
  {
   "cell_type": "code",
   "execution_count": null,
   "metadata": {
    "slideshow": {
     "slide_type": "slide"
    }
   },
   "outputs": [],
   "source": [
    "# Slicing Array/List\n",
    "#List[3] # ini akses satu elemen (pertama)\n",
    "#List[:3] # akses 2 elemen pertama\n",
    "#List[-1] # satu elemen terakhir\n",
    "#List[:3] # 3 elemen pertama\n",
    "#List[-3:] # 3 elemen terakhir\n",
    "List[1:3] # elemen ke 2 dan 3"
   ]
  },
  {
   "cell_type": "code",
   "execution_count": null,
   "metadata": {
    "slideshow": {
     "slide_type": "slide"
    }
   },
   "outputs": [],
   "source": [
    "A = [2,4,1,6,4,9,7,10]\n",
    "A"
   ]
  },
  {
   "cell_type": "code",
   "execution_count": null,
   "metadata": {
    "slideshow": {
     "slide_type": "slide"
    }
   },
   "outputs": [],
   "source": [
    "A = [3, 2, 5]\n",
    "A.sort()\n",
    "A"
   ]
  },
  {
   "cell_type": "code",
   "execution_count": null,
   "metadata": {
    "slideshow": {
     "slide_type": "slide"
    }
   },
   "outputs": [],
   "source": [
    "A.append(33)\n",
    "print(A)"
   ]
  },
  {
   "cell_type": "code",
   "execution_count": null,
   "metadata": {
    "slideshow": {
     "slide_type": "slide"
    }
   },
   "outputs": [],
   "source": [
    "A.append([10,11])\n",
    "A"
   ]
  },
  {
   "cell_type": "code",
   "execution_count": null,
   "metadata": {
    "slideshow": {
     "slide_type": "slide"
    }
   },
   "outputs": [],
   "source": [
    "A = [2,4,1,6,4,9,7,10]\n",
    "A.extend([99,33])\n",
    "A"
   ]
  },
  {
   "cell_type": "code",
   "execution_count": null,
   "metadata": {
    "slideshow": {
     "slide_type": "slide"
    }
   },
   "outputs": [],
   "source": [
    "A = [2,4,1,6,4,9,7,10]\n",
    "B = [99, 33]\n",
    "A+B"
   ]
  },
  {
   "cell_type": "code",
   "execution_count": null,
   "metadata": {
    "slideshow": {
     "slide_type": "slide"
    }
   },
   "outputs": [],
   "source": [
    "A = [34, 55, 77]\n",
    "A.pop()\n",
    "A"
   ]
  },
  {
   "cell_type": "code",
   "execution_count": null,
   "metadata": {
    "slideshow": {
     "slide_type": "slide"
    }
   },
   "outputs": [],
   "source": [
    "List + [10,11]"
   ]
  },
  {
   "cell_type": "code",
   "execution_count": null,
   "metadata": {
    "slideshow": {
     "slide_type": "slide"
    }
   },
   "outputs": [],
   "source": [
    "List.extend([33,44])\n",
    "List"
   ]
  },
  {
   "cell_type": "code",
   "execution_count": null,
   "metadata": {
    "slideshow": {
     "slide_type": "slide"
    }
   },
   "outputs": [],
   "source": [
    "A = [33, 44, 55]\n",
    "del A[1]\n",
    "A"
   ]
  },
  {
   "cell_type": "code",
   "execution_count": null,
   "metadata": {
    "slideshow": {
     "slide_type": "slide"
    }
   },
   "outputs": [],
   "source": [
    "A =[2,3]\n",
    "del A"
   ]
  },
  {
   "cell_type": "code",
   "execution_count": null,
   "metadata": {
    "slideshow": {
     "slide_type": "slide"
    }
   },
   "outputs": [],
   "source": [
    "A"
   ]
  },
  {
   "cell_type": "code",
   "execution_count": null,
   "metadata": {
    "slideshow": {
     "slide_type": "slide"
    }
   },
   "outputs": [],
   "source": [
    "List[0] = 33\n",
    "List"
   ]
  },
  {
   "cell_type": "code",
   "execution_count": null,
   "metadata": {
    "slideshow": {
     "slide_type": "slide"
    }
   },
   "outputs": [],
   "source": [
    "A = [9,2,4,1] # List - weight\n",
    "T = (9,2,4,1) # Tuple - imutable"
   ]
  },
  {
   "cell_type": "code",
   "execution_count": null,
   "metadata": {
    "slideshow": {
     "slide_type": "slide"
    }
   },
   "outputs": [],
   "source": [
    "A[3] = 44\n",
    "A"
   ]
  },
  {
   "cell_type": "code",
   "execution_count": null,
   "metadata": {
    "slideshow": {
     "slide_type": "slide"
    }
   },
   "outputs": [],
   "source": [
    "T[3] = 44\n",
    "T"
   ]
  },
  {
   "cell_type": "code",
   "execution_count": null,
   "metadata": {
    "slideshow": {
     "slide_type": "slide"
    }
   },
   "outputs": [],
   "source": [
    "Tuple = (1, 5, 7, 2) # immutable\n",
    "Tuple"
   ]
  },
  {
   "cell_type": "code",
   "execution_count": null,
   "metadata": {
    "slideshow": {
     "slide_type": "slide"
    }
   },
   "outputs": [],
   "source": [
    "Tuple[:3]"
   ]
  },
  {
   "cell_type": "code",
   "execution_count": null,
   "metadata": {
    "slideshow": {
     "slide_type": "slide"
    }
   },
   "outputs": [],
   "source": [
    "Tuple[0] = 33  # ERROR !!!...."
   ]
  },
  {
   "cell_type": "code",
   "execution_count": null,
   "metadata": {
    "slideshow": {
     "slide_type": "slide"
    }
   },
   "outputs": [],
   "source": [
    "# List/Tuple bisa berisi sembarang (mixed) object di Python ==> Bukan Array\n",
    "A = [2, 3.4, 'teks', [3, True,(4,5)]]\n",
    "A"
   ]
  },
  {
   "cell_type": "markdown",
   "metadata": {
    "slideshow": {
     "slide_type": "slide"
    }
   },
   "source": [
    "# Di data science kapan sebaiknya menggunakan List dan Tuple?"
   ]
  },
  {
   "cell_type": "code",
   "execution_count": null,
   "metadata": {
    "slideshow": {
     "slide_type": "fragment"
    }
   },
   "outputs": [],
   "source": []
  },
  {
   "cell_type": "code",
   "execution_count": null,
   "metadata": {
    "slideshow": {
     "slide_type": "slide"
    }
   },
   "outputs": [],
   "source": [
    "filter_ = {3, 5, 7, 9, 9, 9}\n",
    "\n",
    "6 in filter_"
   ]
  },
  {
   "cell_type": "code",
   "execution_count": null,
   "metadata": {
    "slideshow": {
     "slide_type": "slide"
    }
   },
   "outputs": [],
   "source": [
    "# Dictionary di Python\n",
    "\n",
    "D = {'a':1, 'd':4, 'c':3}\n",
    "D['b']"
   ]
  },
  {
   "cell_type": "code",
   "execution_count": null,
   "metadata": {
    "slideshow": {
     "slide_type": "slide"
    }
   },
   "outputs": [],
   "source": [
    "H = ['jakarta', 'depok', 'bekasi']\n",
    "D = ['bekasi', 'singapura','bekasi', 'jakarta', 'jakarta', 'jakarta']\n",
    "data_filtered = []\n",
    "for kota in D:\n",
    "    if kota in H:\n",
    "        data_filtered.append(kota)\n",
    "data_filtered"
   ]
  },
  {
   "cell_type": "code",
   "execution_count": null,
   "metadata": {
    "slideshow": {
     "slide_type": "slide"
    }
   },
   "outputs": [],
   "source": [
    "Himpunan.add(99)\n",
    "Himpunan"
   ]
  },
  {
   "cell_type": "code",
   "execution_count": null,
   "metadata": {
    "slideshow": {
     "slide_type": "slide"
    }
   },
   "outputs": [],
   "source": [
    "# Converting \"array\"\n",
    "L = list(H) # bisa juga ke \"tuple\" dan sebaliknya\n",
    "L # Perhatikan urutan bisa berubah-rubah dan bahkan berbeda tiap komputer"
   ]
  },
  {
   "cell_type": "code",
   "execution_count": null,
   "metadata": {
    "slideshow": {
     "slide_type": "slide"
    }
   },
   "outputs": [],
   "source": [
    "L = [2, 3, 3,4, 2, 2]\n",
    "L  = set(L)\n",
    "L"
   ]
  },
  {
   "cell_type": "code",
   "execution_count": null,
   "metadata": {
    "slideshow": {
     "slide_type": "slide"
    }
   },
   "outputs": [],
   "source": [
    "# Tapi hati-hati kesalahan ini\n",
    "L = {}\n",
    "type(L)"
   ]
  },
  {
   "cell_type": "code",
   "execution_count": null,
   "metadata": {
    "slideshow": {
     "slide_type": "slide"
    }
   },
   "outputs": [],
   "source": [
    "# Anehnya\n",
    "L = {3, 4, 5, 6, 99}\n",
    "type(L)"
   ]
  },
  {
   "cell_type": "code",
   "execution_count": null,
   "metadata": {
    "slideshow": {
     "slide_type": "slide"
    }
   },
   "outputs": [],
   "source": [
    "S = set()\n",
    "print(S)\n",
    "type(S)"
   ]
  },
  {
   "cell_type": "code",
   "execution_count": null,
   "metadata": {
    "slideshow": {
     "slide_type": "slide"
    }
   },
   "outputs": [],
   "source": [
    "3 in L"
   ]
  },
  {
   "cell_type": "code",
   "execution_count": null,
   "metadata": {
    "slideshow": {
     "slide_type": "slide"
    }
   },
   "outputs": [],
   "source": [
    "P = {'kanker':[1,4,7,5], 'bukan kanker':[2,3]}\n",
    "P\n",
    "# Apa bedanya? Use case?"
   ]
  },
  {
   "cell_type": "code",
   "execution_count": null,
   "metadata": {
    "slideshow": {
     "slide_type": "fragment"
    }
   },
   "outputs": [],
   "source": [
    "type(P)"
   ]
  },
  {
   "cell_type": "code",
   "execution_count": null,
   "metadata": {
    "slideshow": {
     "slide_type": "fragment"
    }
   },
   "outputs": [],
   "source": [
    "P['kanker']"
   ]
  },
  {
   "cell_type": "code",
   "execution_count": null,
   "metadata": {
    "slideshow": {
     "slide_type": "slide"
    }
   },
   "outputs": [],
   "source": [
    "K = P.keys()\n",
    "K"
   ]
  },
  {
   "cell_type": "code",
   "execution_count": null,
   "metadata": {
    "slideshow": {
     "slide_type": "fragment"
    }
   },
   "outputs": [],
   "source": [
    "'b' in P.keys() # ini efisien karena keys dari dictionary adalah SET\n",
    "# Gunakan ini di coding Data Science.\n",
    "# tidak perlu ubah P.keys() ke set"
   ]
  },
  {
   "cell_type": "code",
   "execution_count": null,
   "metadata": {
    "slideshow": {
     "slide_type": "slide"
    }
   },
   "outputs": [],
   "source": [
    "P.values()"
   ]
  },
  {
   "cell_type": "markdown",
   "metadata": {
    "slideshow": {
     "slide_type": "slide"
    }
   },
   "source": [
    "<h1 id=\"Pendahuluan-Logika-Percabangan-(Conditional-Statement)---IF-\"><font color=\"blue\">Pendahuluan Logika Percabangan (Conditional Statement) - IF </font></h1>\n",
    "\n",
    "<ul>\n",
    "\t<li>Bentuk (unit) paling dasar dari kecerdasan buatan atau pembelajaran komputer, dahulu disebut sebagai <em>explicit rules machine learning</em> (but of course it&#39;s not AI ... :)).</li>\n",
    "\t<li>Bentuk umumnya:<br />\n",
    "\t<strong>IF</strong> (<em>kondisi</em>) <strong>MAKA</strong> (<em>tindakan</em>)</li>\n",
    "\t<li>Syarat utamanya adalah &quot;kondisi/syarat&quot; harus bernilai Boolean (True/False), sedangkan tindakan bisa apa saja.</li>\n",
    "</ul>\n",
    "<p><img alt=\"\" src=\"images/4_Cond_Statement_as_ML0.png\" style=\"width: 800px ; height: 300px\" /></p>\n"
   ]
  },
  {
   "cell_type": "markdown",
   "metadata": {
    "slideshow": {
     "slide_type": "slide"
    }
   },
   "source": [
    "<img alt=\"\" src=\"images/4_Con_Statement_BU.png\" />"
   ]
  },
  {
   "cell_type": "markdown",
   "metadata": {
    "slideshow": {
     "slide_type": "slide"
    }
   },
   "source": [
    "<h1><font color=\"blue\">Bentuk Umum Percabangan:</font></h1>\n",
    "\n",
    "**IF (STATEMENT 1):** <br />\n",
    "&nbsp;&nbsp;&nbsp;&nbsp; **Action(s) 1** <br />\n",
    "**ELSE IF (STATEMENT 2):** <br />\n",
    "&nbsp;&nbsp;&nbsp;&nbsp; **Action(s) 2** <br />\n",
    ". <br />\n",
    ". <br />\n",
    ". <br />\n",
    "**ELSE:** <br />\n",
    "&nbsp;&nbsp;&nbsp;&nbsp; **Action(s) N** <br />"
   ]
  },
  {
   "cell_type": "markdown",
   "metadata": {
    "slideshow": {
     "slide_type": "slide"
    }
   },
   "source": [
    "<h1><font color=\"blue\">Telaah Komponen Percabangan - IF </font></h1>\n",
    "\n",
    "<p><font color=\"blue\"><img alt=\"\" src=\"images/4_IF_Components_.png\" style=\"width: 800px; height: 424px;\" /></font></p>"
   ]
  },
  {
   "cell_type": "markdown",
   "metadata": {
    "slideshow": {
     "slide_type": "slide"
    }
   },
   "source": [
    "<h1><font color=\"blue\">Sifat Percabangan:</font></h1>\n",
    "\n",
    "* \"Statement\" adalah variabel bernilai boolean (true/False) atau \n",
    "* \"Statement\" pernyataan bernilai boolean (misal: if x>3)\n",
    "* \"ELSE\" tidak memerlukan Statement\n",
    "* Baik ELSE IF maupun ELSE keduanya pilihan (opsional)/tidak wajib ada.\n",
    "* Jika salah satu Statement bernilai True dan tindakannya dilakukan, maka seluruh baris percabangan dibawahnya **tidak** dilakukan/eksekusi.\n",
    "* Jika percabangan tidak memiliki \"ELSE\" maka ada kemungkinan seluruh \"Actions\" tidak ada yang dilakukan.\n",
    "* Jika percabangan memiliki komponen \"ELSE\" salah satu \"Actions\" pasti dilakukan."
   ]
  },
  {
   "cell_type": "markdown",
   "metadata": {
    "slideshow": {
     "slide_type": "slide"
    }
   },
   "source": [
    "<h1><font color=\"blue\">Good Practice: kondisi IF \"**sebaiknya**\" bernilai Boolean</font></h1>\n",
    "<p><font color=\"blue\"><img alt=\"\" src=\"images/4_If_Statement_needs_2b_boolean.png\"/></font></p>\n",
    "\n",
    "* Ada pengecualian di beberapa bahasa pemrograman (Python/PHP), seperti yang sudah kita bahas di modul 2."
   ]
  },
  {
   "cell_type": "markdown",
   "metadata": {
    "slideshow": {
     "slide_type": "slide"
    }
   },
   "source": [
    "# <font color=\"blue\"> Hierarchical Logic in Nested Loop </font>\n",
    "\n",
    "* Ada masalah apa dengan percabangan IF berikut?\n",
    "\n",
    "<img src=\"images/4_hierarchical_logic_wrong_example.png\"/>\n",
    "\n",
    "* Bagaimana memperbaikinya?"
   ]
  },
  {
   "cell_type": "code",
   "execution_count": null,
   "metadata": {
    "slideshow": {
     "slide_type": "slide"
    }
   },
   "outputs": [],
   "source": [
    "a = int(input('x='))\n",
    "\n",
    "if a>0:\n",
    "    print('a bil pos')\n",
    "elif a==0:\n",
    "    print('a = 0')\n",
    "else:\n",
    "    print('a adalah bil negatif')"
   ]
  },
  {
   "cell_type": "code",
   "execution_count": null,
   "metadata": {
    "slideshow": {
     "slide_type": "slide"
    }
   },
   "outputs": [],
   "source": [
    "2/0"
   ]
  },
  {
   "cell_type": "code",
   "execution_count": null,
   "metadata": {
    "slideshow": {
     "slide_type": "slide"
    }
   },
   "outputs": [],
   "source": [
    "x = 2\n",
    "print( (x**2-4)/(x-2) )"
   ]
  },
  {
   "cell_type": "markdown",
   "metadata": {},
   "source": [
    "# <font color=\"blue\"> Review Boolean statements </font>\n",
    "\n",
    "<img src=\"images/4_AND-OR-NOT.png\"/>"
   ]
  },
  {
   "cell_type": "code",
   "execution_count": null,
   "metadata": {},
   "outputs": [],
   "source": [
    "# Boolean Statements in Python\n",
    "a = False \n",
    "b = True\n",
    "\n",
    "print(\"AND: \", a & b, \", ATAU: \",  a and b)\n",
    "print(\"OR:  \", a | b, \", ATAU: \",  a or b)"
   ]
  },
  {
   "cell_type": "markdown",
   "metadata": {
    "slideshow": {
     "slide_type": "slide"
    }
   },
   "source": [
    "# hati-hati Boolean Trap di Python\n",
    "\n",
    "Unfortunately it is not as easy in real life as it is in Python to differentiate between **true and false**: \n",
    "The following objects are evaluated by Python as **False**:\n",
    "\n",
    "- numerical zero values (0, 0.0, 0.0+0.0j),\n",
    "- the Boolean value False,\n",
    "- empty strings,\n",
    "- empty lists and empty tuples,\n",
    "- empty dictionaries.\n",
    "- special value \"None\".\n",
    "\n",
    "**All other values are considered to be True**"
   ]
  },
  {
   "cell_type": "code",
   "execution_count": null,
   "metadata": {
    "slideshow": {
     "slide_type": "slide"
    }
   },
   "outputs": [],
   "source": [
    "a = True\n",
    "if a:\n",
    "    print('Benar')\n",
    "else:\n",
    "    print('Salah')"
   ]
  },
  {
   "cell_type": "markdown",
   "metadata": {
    "slideshow": {
     "slide_type": "fragment"
    }
   },
   "source": [
    "# Usecase logic diatas\n",
    "\n",
    "* Pengolahan data media sosial\n",
    "* Pengolahan data dari database\n",
    "* Not so useful pada data terstruktur yang preprocessed/tidak noisy"
   ]
  },
  {
   "cell_type": "markdown",
   "metadata": {
    "slideshow": {
     "slide_type": "slide"
    }
   },
   "source": [
    "## <font color=\"blue\"> Exceptions (Try-Except): One of the reason why Python is awesome!</font>\n",
    "\n",
    "* Secara umum sebuah program sebaiknya harus memiliki \"precaution\", just in case input yang tidak diinginkan masuk ke sistem dan mengakibatkan error.\n",
    "* Istilah formal untuk hal ini adalah \"Domain Constraint\".\n",
    "* Pada dasarnya hampir semua bahasa pemrograman (dan database) mampu melakukan domain constraint. Namun di Python dapat dilakukan dengan jauuuuhhh lebih sederhana (simple)"
   ]
  },
  {
   "cell_type": "code",
   "execution_count": null,
   "metadata": {
    "slideshow": {
     "slide_type": "fragment"
    }
   },
   "outputs": [],
   "source": [
    "# Contoh TRY - Except\n",
    "try:\n",
    "    n = int(input(\"Please input any integer = \"))\n",
    "    print('Terima Kasih')\n",
    "except:\n",
    "    print('yang anda masukkan bukan angka')"
   ]
  },
  {
   "cell_type": "code",
   "execution_count": null,
   "metadata": {
    "slideshow": {
     "slide_type": "slide"
    }
   },
   "outputs": [],
   "source": [
    "n = int(input(\"Please input any integer = \"))"
   ]
  },
  {
   "cell_type": "code",
   "execution_count": null,
   "metadata": {
    "slideshow": {
     "slide_type": "slide"
    }
   },
   "outputs": [],
   "source": [
    "n = 5\n",
    "try:\n",
    "    print( 'nilai fungsi = ', (n**2-1) / ( (n-1)*(n-5)*(n-7) ) )\n",
    "except:\n",
    "    pass\n",
    "    #print(\"I can't divide by 0 ... please try other integer\")"
   ]
  },
  {
   "cell_type": "markdown",
   "metadata": {
    "slideshow": {
     "slide_type": "slide"
    }
   },
   "source": [
    "# Catch the Error! (Better usage of Try-Except)"
   ]
  },
  {
   "cell_type": "code",
   "execution_count": null,
   "metadata": {
    "slideshow": {
     "slide_type": "fragment"
    }
   },
   "outputs": [],
   "source": [
    "# Contoh TRY - Except\n",
    "try:\n",
    "    n = int(input(\"Please input any integer = \"))\n",
    "    print('Terima Kasih')\n",
    "except Exception as error_:\n",
    "    print('Error : ', error_)"
   ]
  },
  {
   "cell_type": "markdown",
   "metadata": {
    "slideshow": {
     "slide_type": "slide"
    }
   },
   "source": [
    "# <font color=\"blue\"> Pendahuluan Loop di Python </font>\n",
    "\n",
    "1. Kita akan menjumlahkan bilangan 1 sampai 100.\n",
    "2. Secara umum kita membutuhkan sebuah variable sementara/pembantu (misal *sum*) yang akan menampung hasil penjumlahan sementara.\n",
    "2. Berikutnya kita akan melakukan pengulangan (loop) untuk menjumlahkan setiap suku di deret ke variabel *sum*.\n",
    "3. Secara umum algoritmanya sebagai berikut:\n",
    "\n",
    "**input**: n=100 <br />\n",
    "**output**: Hasil penjumlahan bilangan 1 sampai 100  <br />\n",
    "**Inisialisasi**: sum = 0  <br />\n",
    "**FOR** i=1 to 100 <br />\n",
    "&nbsp;&nbsp;&nbsp;&nbsp;sum = sum + i <br />\n",
    "**END FOR** <br />\n",
    "**RETURN** sum"
   ]
  },
  {
   "cell_type": "markdown",
   "metadata": {
    "slideshow": {
     "slide_type": "slide"
    }
   },
   "source": [
    "<h1 id=\"-Telaah-Komponen-Loop-\"><font color=\"blue\">Telaah Komponen Loop </font></h1>\n",
    "\n",
    "<p><font color=\"blue\"><img alt=\"\" src=\"images/3_Looping_Components.png\" style=\"width: 800px; height: 424px;\" /></font></p>\n"
   ]
  },
  {
   "cell_type": "markdown",
   "metadata": {
    "slideshow": {
     "slide_type": "slide"
    }
   },
   "source": [
    "# <font color=\"blue\"> Review Loop </font>\n",
    "\n",
    "1. Dilakukan saat kita ingin melakukan sesuatu berulang-ulang (boleh dengan kondisi yang berbeda-beda - most cases it is)\n",
    "2. Secara umum (default) bertambahnya nilai *index* adalah 1 (satu), kecuali dinyatakan secara eksplisit berbeda.\n",
    "3. Secara umum (terutama dalam algoritma) *index* bersifat incremental.\n",
    "4. Loop Body tidak wajib memuat variabel *index*\n",
    "5. beberapa bahasa pemrograman (misal python) bisa memiliki variabel *index* yang implisit (contoh akan diberikan)\n",
    "6. Secara umum tidak diperkenankan merubah nilai variabel index di dalam loop body.\n",
    "   Dengan kata lain variabel index tidak boleh berada di kiri tanda sama dengan (\"=\") di dalam loop body.\n",
    "8. Loop stopper harus bernilai konstan, boleh berupa angka (skalar) atau variabel dengan nilai skalar.\n",
    "9. Secara umum nilai awal dan nilai akhir index biasanya bilangan cacah (0,1,2,...,N)"
   ]
  },
  {
   "cell_type": "markdown",
   "metadata": {
    "slideshow": {
     "slide_type": "slide"
    }
   },
   "source": [
    "# <font color=\"blue\"> Loop in Python and why it looks like an algorithm :) </font>\n",
    "\n",
    "* But first, let's talk about \"**range function**\" in Python"
   ]
  },
  {
   "cell_type": "code",
   "execution_count": null,
   "metadata": {
    "slideshow": {
     "slide_type": "fragment"
    }
   },
   "outputs": [],
   "source": [
    "# Fungsi Range di Python\n",
    "A = list( range(7) ) \n",
    "A"
   ]
  },
  {
   "cell_type": "code",
   "execution_count": null,
   "metadata": {
    "slideshow": {
     "slide_type": "fragment"
    }
   },
   "outputs": [],
   "source": [
    "list( range(1,8) )"
   ]
  },
  {
   "cell_type": "code",
   "execution_count": null,
   "metadata": {},
   "outputs": [],
   "source": [
    "# Sehingga Loop diatas di Python adalah.\n",
    "SUM = 0\n",
    "for i in range(1,101):\n",
    "    SUM = SUM + i # SUM += i\n",
    "SUM"
   ]
  },
  {
   "cell_type": "code",
   "execution_count": null,
   "metadata": {},
   "outputs": [],
   "source": [
    "#Perhatikan di Python x = x + k dapat disederhanakan penulisannya dengan x+=k\n",
    "\n",
    "x = 3\n",
    "x = x +3\n",
    "print(x)\n",
    "x = 3\n",
    "x += 3\n",
    "print(x)"
   ]
  },
  {
   "cell_type": "code",
   "execution_count": null,
   "metadata": {},
   "outputs": [],
   "source": [
    "# Loop boleh tidak memuat variabel index, Misal:\n",
    "for i in range(3):\n",
    "    print(98+1)"
   ]
  },
  {
   "cell_type": "code",
   "execution_count": null,
   "metadata": {},
   "outputs": [],
   "source": [
    "# \"di Python\" Loop boleh dari suatu list/array\n",
    "kumpulan_buah = ['apple', 'jeruk', 'anggur']\n",
    "\n",
    "for buah in kumpulan_buah:\n",
    "    print(buah)"
   ]
  },
  {
   "cell_type": "code",
   "execution_count": null,
   "metadata": {},
   "outputs": [],
   "source": [
    "# Range boleh menggunakan \"STEP\"\n",
    "# Bentuk umumnya range(START, END, STEP)\n",
    "list(range(2,10,2))"
   ]
  },
  {
   "cell_type": "code",
   "execution_count": null,
   "metadata": {},
   "outputs": [],
   "source": [
    "# Bisa juga decrement (TIDAK DISARANKAN - Not Good Practice di Data Science atau pemrograman secara umum)\n",
    "for i in range(30,1,-5):\n",
    "    print(i)"
   ]
  },
  {
   "cell_type": "code",
   "execution_count": null,
   "metadata": {},
   "outputs": [],
   "source": [
    "# Sekedar mengingatkan, tentu saja batas Loop bisa berupa variabel\n",
    "a = 1\n",
    "b = 101\n",
    "SUM = 0\n",
    "for i in range(a,b):\n",
    "    SUM += i\n",
    "    # b = 7 # BAD Practice!!!\n",
    "    # i = b*a # BAD Practice!!!\n",
    "SUM"
   ]
  },
  {
   "cell_type": "markdown",
   "metadata": {
    "slideshow": {
     "slide_type": "slide"
    }
   },
   "source": [
    "<h1><font color=\"blue\">Kasus sederhana data science: Skewness dan Transformasi Data </font></h1>\n",
    "\n",
    "<img alt=\"\" src=\"images/3_data_transformation.png\" style=\"width: 769px; height: 404px;\" />\n"
   ]
  },
  {
   "cell_type": "markdown",
   "metadata": {
    "slideshow": {
     "slide_type": "slide"
    }
   },
   "source": [
    "<h1><font color=\"blue\">Contoh Inverse Transformation : Cara 1 </font></h1>"
   ]
  },
  {
   "cell_type": "code",
   "execution_count": null,
   "metadata": {
    "slideshow": {
     "slide_type": "slide"
    }
   },
   "outputs": [],
   "source": [
    "# Contoh 1 bagaimana mentransform suatu data\n",
    "A = [99,89,80,50,25,12,11,10,9,8,7,6,5,4,3,2,1, -1]\n",
    "B = [] # inisialisasi dengan array (list) kosong\n",
    "for datum in A:\n",
    "    B.append(1/datum) # APPEND adalah perintah untuk menambahkan elemen ke suatu array (list)\n",
    "print(A)\n",
    "print(B)"
   ]
  },
  {
   "cell_type": "markdown",
   "metadata": {
    "slideshow": {
     "slide_type": "slide"
    }
   },
   "source": [
    "<h1><font color=\"blue\">Contoh Inverse Transformation : Cara 2 </font></h1>\n",
    "\n",
    "* Cara diatas memiliki kelemahan yang cukup serius ketika datanya besar. Apakah itu? \n",
    "* *Copy Memory*"
   ]
  },
  {
   "cell_type": "code",
   "execution_count": null,
   "metadata": {
    "slideshow": {
     "slide_type": "fragment"
    }
   },
   "outputs": [],
   "source": [
    "# Contoh 2 bagaimana mentransform suatu data\n",
    "# Kita akan menelaah lebih jauh di pertemuan setelah UTS\n",
    "A = [99,89,80,50,25,12,11,10,9,8,7,6,5,4,3,2,1]\n",
    "N = len(A)\n",
    "for i in range(N):\n",
    "    A[i] = 1/A[i] # ini disebut in-place processing. Jauh lebih hemat memory\n",
    "print(A)\n",
    "#print(N)"
   ]
  },
  {
   "cell_type": "code",
   "execution_count": null,
   "metadata": {
    "slideshow": {
     "slide_type": "slide"
    }
   },
   "outputs": [],
   "source": [
    "# Contoh 3 bagaimana mentransform suatu data\n",
    "# Cara yg spesifik untuk Python (recommended)\n",
    "A = [99,89,80,50,25,12,11,10,9,8,7,6,5,4,3,2,1]\n",
    "for i, a in enumerate(A): # perintah ENUMERATE di Python akan menghasilkan variable \"index\" dari \"a\" \n",
    "    A[i] = 1/a # tetap in-place processing\n",
    "print(A)"
   ]
  },
  {
   "cell_type": "markdown",
   "metadata": {
    "slideshow": {
     "slide_type": "slide"
    }
   },
   "source": [
    "# <font color=\"blue\"> List Comprehension: It's a Python thing</font>"
   ]
  },
  {
   "cell_type": "code",
   "execution_count": null,
   "metadata": {
    "slideshow": {
     "slide_type": "fragment"
    }
   },
   "outputs": [],
   "source": [
    "['hi' for i in range(3)]"
   ]
  },
  {
   "cell_type": "code",
   "execution_count": null,
   "metadata": {
    "slideshow": {
     "slide_type": "slide"
    }
   },
   "outputs": [],
   "source": [
    "A = [3,4,1]\n",
    "[x*2 for x in A]"
   ]
  },
  {
   "cell_type": "code",
   "execution_count": null,
   "metadata": {
    "slideshow": {
     "slide_type": "slide"
    }
   },
   "outputs": [],
   "source": [
    "# Contoh 4 bagaimana mentransform suatu data\n",
    "# Cara yg spesifik untuk Python (Highly recommended)\n",
    "A = [99,89,80,50,25,12,11,10,9,8,7,6,5,4,3,2,1]\n",
    "\n",
    "A = [1/x for x in A]  # List comprehesion secara umum lebih cepat dan sederhana\n",
    "\n",
    "print(A)"
   ]
  },
  {
   "cell_type": "markdown",
   "metadata": {
    "slideshow": {
     "slide_type": "slide"
    }
   },
   "source": [
    "# <font color=\"blue\"> Serial and Nested Loop </font>\n",
    "\n",
    "1. Serial loop adalah loop yang dilakukan setelah loop sebelumnya selesai\n",
    "2. Nested Loop adalah Loop dalam Loop\n",
    "3. Pada nested loop (loop bersarang), loop terdalam diselesaikan terlebih dahulu sebelum index loop terluar dilakukan.\n",
    "4. Nested loop bisa memiliki level >2\n",
    "5. index (START/END Value) nested loop internal (dalam) boleh dipengaruhi oleh nilai dari index terluar.\n",
    "6. Secara umum nested loop akan meningkatkan jumlah komputasi secara exponensial"
   ]
  },
  {
   "cell_type": "code",
   "execution_count": null,
   "metadata": {
    "slideshow": {
     "slide_type": "fragment"
    }
   },
   "outputs": [],
   "source": [
    "# Implementasi serial loop di Python\n",
    "# Jangan lupa index range di Python mulai dari \"0\", namun jumlah pengulangan tetap \"N\"\n",
    "for i in range(2):\n",
    "    print(i+1, end=', ')\n",
    "    \n",
    "for j in range(3):\n",
    "    print(j+1, end=', ')"
   ]
  },
  {
   "cell_type": "code",
   "execution_count": null,
   "metadata": {
    "slideshow": {
     "slide_type": "slide"
    }
   },
   "outputs": [],
   "source": [
    "# Implementasi Nested loop di Python\n",
    "# Jangan lupa index range di Python mulai dari \"0\", namun jumlah pengulangan tetap \"N\"\n",
    "for i in range(2):\n",
    "    for j in range(3):\n",
    "        print(i,j)"
   ]
  },
  {
   "cell_type": "code",
   "execution_count": null,
   "metadata": {
    "slideshow": {
     "slide_type": "slide"
    }
   },
   "outputs": [],
   "source": [
    "# Breaking Loop\n",
    "for i in range(5):\n",
    "    for j in range(2):\n",
    "        print(i,j)\n",
    "    if i>3:\n",
    "        break"
   ]
  },
  {
   "cell_type": "markdown",
   "metadata": {
    "slideshow": {
     "slide_type": "slide"
    }
   },
   "source": [
    "# <font color=\"blue\"> Python: menjumlahkan seluruh elemen pada sebuah matrix </font>"
   ]
  },
  {
   "cell_type": "code",
   "execution_count": null,
   "metadata": {
    "slideshow": {
     "slide_type": "fragment"
    }
   },
   "outputs": [],
   "source": [
    "# Cara Standard (umum)\n",
    "A = [[1,2,3], [4,5,6],[7,8,9],[4,5,3]]\n",
    "SUM = 0\n",
    "for i in range(4):\n",
    "    for j in range(3):\n",
    "        SUM = SUM + A[i][j]\n",
    "SUM"
   ]
  },
  {
   "cell_type": "code",
   "execution_count": null,
   "metadata": {
    "slideshow": {
     "slide_type": "slide"
    }
   },
   "outputs": [],
   "source": [
    "# Cara Alternatif: Pythonista - kelebihan cara ini tidak bergantung pada ukuran A\n",
    "# PENTING sekali di Data Science\n",
    "A = [[1,2,3], [4,5,6],[7,8,9],[4,5,3]]\n",
    "SUM = 0\n",
    "for b in A:# untuk setiap baris di matrix\n",
    "    for x in b:# untuk setiap elemen di baris tersebut\n",
    "        SUM = SUM + x\n",
    "SUM"
   ]
  },
  {
   "cell_type": "code",
   "execution_count": null,
   "metadata": {
    "slideshow": {
     "slide_type": "slide"
    }
   },
   "outputs": [],
   "source": [
    "# Alternatif lain : mix perintah \"sum\" python dan list comprehension\n",
    "# inilah alasan saya menulis variabel sementara SUM dengan huruf besar, \n",
    "# karena \"sum\" adalah nama fungsi built-in di Python Namespace\n",
    "A = [[1,2,3], [4,5,6],[7,8,9],[4,5,3]]\n",
    "\n",
    "SUM = sum([sum(x) for x in A]) # fungsi f: R^MxN ==> R\n",
    "SUM\n",
    "# kelak ketika kita membahas module \"Numpy\" bahkan ada cara yang lebih sederhana (dan efisien).\n",
    "# Cara ini menunjukkan level keahlian kita di Python untuk Data Science"
   ]
  },
  {
   "cell_type": "code",
   "execution_count": null,
   "metadata": {
    "slideshow": {
     "slide_type": "slide"
    }
   },
   "outputs": [],
   "source": [
    "# Contoh code bukan Pythonista\n",
    "Genap = []\n",
    "for x in range(1,25):\n",
    "    if x%2==0:\n",
    "        Genap.append(x)\n",
    "Genap"
   ]
  },
  {
   "cell_type": "code",
   "execution_count": null,
   "metadata": {
    "slideshow": {
     "slide_type": "fragment"
    }
   },
   "outputs": [],
   "source": [
    "# Contoh lain lagi yang menunjukkan proficiency kita akan skill Python untuk Data Science yg dimiliki\n",
    "# For + If Python style : Pythonista!\n",
    "[x for x in range(1,25) if x%2==0]"
   ]
  },
  {
   "cell_type": "markdown",
   "metadata": {
    "slideshow": {
     "slide_type": "slide"
    }
   },
   "source": [
    "<h1 id=\"-Pendahuluan-Indefinite-Loop---While-\"><font color=\"blue\">Pendahuluan Indefinite Loop - While </font></h1>\n",
    "\n",
    "<ol>\n",
    "\t<li>While loop digunakan saat kita hendak melakukan perulangan/iterasi, namun tidak mengetahui secara pasti jumlah perulangannya.</li>\n",
    "\t<li>Kondisi di perulangan = pencabangan IF, yaitu bernilai boolean</li>\n",
    "\t<li>Kondisi di While biasa disebut Stopper</li>\n",
    "\t<li>Stopper dapat diletakkan di awal atau akhir (Repeat-Until)</li>\n",
    "\t<li>Di dalam &quot;loop body&quot; wajib memuat suatu mekanisme yang mengakibatkan suatu saat Stopper bernilai True.</li>\n",
    "\t<li>Precautions sangat disarankan di While loop dengan memasukkan jumlah iterasi maksimum</li>\n",
    "</ol>\n",
    "\n",
    "<p><img alt=\"\" src=\"images/5_while_loop_Schema.png\" style=\"width: 280px; height: 225px;\" /></p>\n"
   ]
  },
  {
   "cell_type": "code",
   "execution_count": null,
   "metadata": {
    "slideshow": {
     "slide_type": "slide"
    }
   },
   "outputs": [],
   "source": [
    "# Contoh Looping While di Python\n",
    "n=7\n",
    "while n>0:\n",
    "    print(n, end = ', ')\n",
    "    n=n-1"
   ]
  },
  {
   "cell_type": "code",
   "execution_count": null,
   "metadata": {
    "slideshow": {
     "slide_type": "fragment"
    }
   },
   "outputs": [],
   "source": [
    "# For VS While????... \n",
    "for i in range(1,8):\n",
    "    print(8-i, end= ', ')"
   ]
  },
  {
   "cell_type": "markdown",
   "metadata": {
    "slideshow": {
     "slide_type": "fragment"
    }
   },
   "source": [
    "Semua Looping **For** dapat digantikan dengan Looping **While**\n",
    "\n",
    "Namun hal tsb adalah BAD PRACTICE (why?) dan merupakan ciri programmer yang tidak kompeten"
   ]
  },
  {
   "cell_type": "markdown",
   "metadata": {
    "slideshow": {
     "slide_type": "slide"
    }
   },
   "source": [
    "<h1 id=\"While---Else-:-Why?-Usecase-Scenario\">While - Else : Why? Usecase Scenario</h1>\n",
    "<img alt=\"\" src=\"images/5_While-Else.png\" style=\"width: 630px; height: 300px;\" />\n",
    "\n",
    "* Metode-metode di Statistik/Data Science yang tidak konvex/Tidak pasti konvergen: misal Neural network/Deep Learning."
   ]
  },
  {
   "cell_type": "code",
   "execution_count": null,
   "metadata": {},
   "outputs": [],
   "source": [
    "# Sebelum kita mulai\n",
    "from random import random as rand\n",
    "\n",
    "A = rand()\n",
    "A"
   ]
  },
  {
   "cell_type": "code",
   "execution_count": null,
   "metadata": {
    "slideshow": {
     "slide_type": "slide"
    }
   },
   "outputs": [],
   "source": [
    "# Contoh Umum/Sederhana: Permainan tebak angka\n",
    "# masukkan angka negatif atau 0 jika ingin menyerah\n",
    "import random\n",
    "n = 10\n",
    "acak = int(n * random.random()) + 1\n",
    "tebakan = 0\n",
    "print(\"Saya menyimpan angka rahasia, coba tebak angka saya\")\n",
    "while tebakan != acak:\n",
    "    tebakan = int(input(\"Coba tebak (lagi): \"))\n",
    "    if tebakan > 0:\n",
    "        if tebakan > acak:\n",
    "            print(\"angka itu terlalu besar\")\n",
    "        elif tebakan < acak:\n",
    "            print(\"Tebakannya terlalu kecil\")\n",
    "    else:\n",
    "        print(\"yah, kok nyerah?\")\n",
    "        break\n",
    "else:\n",
    "    print(\"Selamat, anda menebak dengan benar\")"
   ]
  },
  {
   "cell_type": "markdown",
   "metadata": {
    "slideshow": {
     "slide_type": "slide"
    }
   },
   "source": [
    "# While for Domain Constraints\n",
    "\n",
    "* Di statistika/Data Science/ Database digunakan untuk mencegah noise di data.\n",
    "* Misal mencegah nilai lain selain Pria/Wanita di variabel \"Jenis Kelamin\""
   ]
  },
  {
   "cell_type": "code",
   "execution_count": null,
   "metadata": {
    "slideshow": {
     "slide_type": "fragment"
    }
   },
   "outputs": [],
   "source": [
    "# Contoh\n",
    "gender = ['pria', 'wanita']\n",
    "sex = ''\n",
    "while sex not in gender:\n",
    "    sex = input('Apakah Jenis Kelamin anda = ')\n",
    "print('Terima Kasih')"
   ]
  },
  {
   "cell_type": "markdown",
   "metadata": {
    "slideshow": {
     "slide_type": "slide"
    }
   },
   "source": [
    "# Breaking Loop and why it is important in Data Science\n",
    "\n",
    "* Use case while adalah perulangan yang tidak tentu jumlahnya\n",
    "* Tapi tidak tentu bisa tak terbatas (infinite)\n",
    "* Bayangkan di data science algoritma dalam mencari parameter optimal yang tidak berhenti (misal Neural network)\n",
    "* Perlu ada mekanisme memberhentikan algoritmanya\n",
    "* Biasanya dilakukan dengan maksimum iterasi"
   ]
  },
  {
   "cell_type": "code",
   "execution_count": null,
   "metadata": {
    "slideshow": {
     "slide_type": "fragment"
    }
   },
   "outputs": [],
   "source": [
    "# Kenapa ayo? ... :)\n",
    "N = 1\n",
    "i = 0\n",
    "while N>0:\n",
    "    i += 1\n",
    "    N = N/2\n",
    "\n",
    "print(N,i)"
   ]
  },
  {
   "cell_type": "code",
   "execution_count": null,
   "metadata": {
    "slideshow": {
     "slide_type": "slide"
    }
   },
   "outputs": [],
   "source": [
    "# Contoh breaking Loop\n",
    "\n",
    "iter_ = 0\n",
    "maxIter = 1000\n",
    "N = 1\n",
    "\n",
    "while N>0 and iter_<maxIter: # AND dan bukan OR .... hati-hati ....\n",
    "    N=N/2\n",
    "    iter_ = iter_ + 1\n",
    "    \n",
    "print(N, iter_)"
   ]
  },
  {
   "cell_type": "markdown",
   "metadata": {
    "slideshow": {
     "slide_type": "slide"
    }
   },
   "source": [
    "# TQDM awesome modul untuk loop\n",
    "\n",
    "* Sangat disarankan di data science terutama untuk proses yg kompleks atau data yang besar"
   ]
  },
  {
   "cell_type": "code",
   "execution_count": null,
   "metadata": {
    "slideshow": {
     "slide_type": "slide"
    }
   },
   "outputs": [],
   "source": [
    "from tqdm import tqdm # juga berfungsi di terminal unix/command prompt\n",
    "from time import sleep\n",
    "\n",
    "for i in tqdm(range(10)):\n",
    "    sleep(1) # menunggu 1 detik"
   ]
  },
  {
   "cell_type": "markdown",
   "metadata": {
    "slideshow": {
     "slide_type": "slide"
    }
   },
   "source": [
    "<h1 id=\"End-of-Modul-I.\">End of Modul</h1>\n",
    "\n",
    "## ADSP-01: Pendahuluan Python untuk Data Science - Basic I"
   ]
  }
 ],
 "metadata": {
  "celltoolbar": "Slideshow",
  "kernelspec": {
   "display_name": "Python 3",
   "language": "python",
   "name": "python3"
  },
  "language_info": {
   "codemirror_mode": {
    "name": "ipython",
    "version": 3
   },
   "file_extension": ".py",
   "mimetype": "text/x-python",
   "name": "python",
   "nbconvert_exporter": "python",
   "pygments_lexer": "ipython3",
   "version": "3.6.8"
  }
 },
 "nbformat": 4,
 "nbformat_minor": 2
}
